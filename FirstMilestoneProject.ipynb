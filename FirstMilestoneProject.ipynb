{
 "cells": [
  {
   "cell_type": "code",
   "execution_count": 37,
   "metadata": {},
   "outputs": [
    {
     "name": "stdout",
     "output_type": "stream",
     "text": [
      "[[1, 2, 3], [1, 2, 'O'], [1, 2, 3]]\n"
     ]
    }
   ],
   "source": [
    "#Board\n",
    "\"\"\"\n",
    "def board():\n",
    "    loc = {1:{1:0,2:0,3:0},2:{1:0,2:0,3:0},3:{1:0,2:0,3:0}}\n",
    "    return(loc)\n",
    "    pass\n",
    "   \"\"\"\n",
    "def start():\n",
    "    c=input=\"do you wanna start the game?: Y/N\"\n",
    "    if (c=='Y'):\n",
    "        player=int(input=\"who is gonna play first: 1/2\")\n",
    "        board(player)\n",
    "    else:\n",
    "        break\n",
    "        \n",
    "def board(player):\n",
    "    loc = [1,2,3,1,2,3,1,2,3]\n",
    "    print(loc)\n",
    "    play(loc,player)\n",
    "    \n",
    "\n",
    "#Game\n",
    "def play(A,player):\n",
    "    if player==1:\n",
    "        mark='X'\n",
    "    else:\n",
    "        mark='O'\n",
    "    x=int(input=\"enter the row:\")\n",
    "    y=int(input=\"enter the column\")\n",
    "    A[x][y]=mark\n",
    "    print(A)\n",
    "    checkwin(A,player)\n",
    "\n",
    "#checkwin\n",
    "def checkwin(a,player):\n",
    "    for i in a,3:\n",
    "        \n",
    "        \n",
    "play(2,[1,2])"
   ]
  },
  {
   "cell_type": "code",
   "execution_count": 43,
   "metadata": {},
   "outputs": [
    {
     "ename": "SyntaxError",
     "evalue": "can't assign to literal (<ipython-input-43-4fcb48fca83d>, line 2)",
     "output_type": "error",
     "traceback": [
      "\u001b[1;36m  File \u001b[1;32m\"<ipython-input-43-4fcb48fca83d>\"\u001b[1;36m, line \u001b[1;32m2\u001b[0m\n\u001b[1;33m    for i,2 in P:\u001b[0m\n\u001b[1;37m         ^\u001b[0m\n\u001b[1;31mSyntaxError\u001b[0m\u001b[1;31m:\u001b[0m can't assign to literal\n"
     ]
    }
   ],
   "source": [
    "P=[1,2,3,4,5,6,7,8,9,10,11,12,13,14,15,16,17,18,19,20]\n",
    "for i in :\n",
    "    print(i)"
   ]
  },
  {
   "cell_type": "code",
   "execution_count": null,
   "metadata": {
    "collapsed": true
   },
   "outputs": [],
   "source": []
  }
 ],
 "metadata": {
  "kernelspec": {
   "display_name": "Python 3",
   "language": "python",
   "name": "python3"
  },
  "language_info": {
   "codemirror_mode": {
    "name": "ipython",
    "version": 3
   },
   "file_extension": ".py",
   "mimetype": "text/x-python",
   "name": "python",
   "nbconvert_exporter": "python",
   "pygments_lexer": "ipython3",
   "version": "3.6.3"
  }
 },
 "nbformat": 4,
 "nbformat_minor": 2
}
